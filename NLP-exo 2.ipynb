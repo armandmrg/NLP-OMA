{
 "cells": [
  {
   "cell_type": "code",
   "execution_count": 104,
   "metadata": {},
   "outputs": [],
   "source": [
    "import numpy as np\n",
    "import pandas as pd\n",
    "import nltk\n",
    "from nltk.corpus import stopwords\n",
    "from nltk.tokenize import word_tokenize "
   ]
  },
  {
   "cell_type": "markdown",
   "metadata": {},
   "source": [
    "### Loading Data"
   ]
  },
  {
   "cell_type": "code",
   "execution_count": 40,
   "metadata": {},
   "outputs": [
    {
     "data": {
      "text/html": [
       "<div>\n",
       "<style scoped>\n",
       "    .dataframe tbody tr th:only-of-type {\n",
       "        vertical-align: middle;\n",
       "    }\n",
       "\n",
       "    .dataframe tbody tr th {\n",
       "        vertical-align: top;\n",
       "    }\n",
       "\n",
       "    .dataframe thead th {\n",
       "        text-align: right;\n",
       "    }\n",
       "</style>\n",
       "<table border=\"1\" class=\"dataframe\">\n",
       "  <thead>\n",
       "    <tr style=\"text-align: right;\">\n",
       "      <th></th>\n",
       "      <th>polarity</th>\n",
       "      <th>aspect_category</th>\n",
       "      <th>target_term</th>\n",
       "      <th>character_offset</th>\n",
       "      <th>sentence</th>\n",
       "    </tr>\n",
       "  </thead>\n",
       "  <tbody>\n",
       "    <tr>\n",
       "      <th>0</th>\n",
       "      <td>positive</td>\n",
       "      <td>AMBIENCE#GENERAL</td>\n",
       "      <td>seating</td>\n",
       "      <td>18:25</td>\n",
       "      <td>short and sweet – seating is great:it's romant...</td>\n",
       "    </tr>\n",
       "    <tr>\n",
       "      <th>1</th>\n",
       "      <td>positive</td>\n",
       "      <td>AMBIENCE#GENERAL</td>\n",
       "      <td>trattoria</td>\n",
       "      <td>25:34</td>\n",
       "      <td>This quaint and romantic trattoria is at the t...</td>\n",
       "    </tr>\n",
       "  </tbody>\n",
       "</table>\n",
       "</div>"
      ],
      "text/plain": [
       "   polarity   aspect_category target_term character_offset  \\\n",
       "0  positive  AMBIENCE#GENERAL     seating            18:25   \n",
       "1  positive  AMBIENCE#GENERAL   trattoria            25:34   \n",
       "\n",
       "                                            sentence  \n",
       "0  short and sweet – seating is great:it's romant...  \n",
       "1  This quaint and romantic trattoria is at the t...  "
      ]
     },
     "execution_count": 40,
     "metadata": {},
     "output_type": "execute_result"
    }
   ],
   "source": [
    "df_train=pd.read_csv(\"traindata.csv\",sep='\\t',header=None)\n",
    "df_train.columns=[\"polarity\",\"aspect_category\",\"target_term\",\"character_offset\",\"sentence\"]\n",
    "df_train.head(2)"
   ]
  },
  {
   "cell_type": "code",
   "execution_count": 45,
   "metadata": {
    "scrolled": true
   },
   "outputs": [
    {
     "data": {
      "text/html": [
       "<div>\n",
       "<style scoped>\n",
       "    .dataframe tbody tr th:only-of-type {\n",
       "        vertical-align: middle;\n",
       "    }\n",
       "\n",
       "    .dataframe tbody tr th {\n",
       "        vertical-align: top;\n",
       "    }\n",
       "\n",
       "    .dataframe thead th {\n",
       "        text-align: right;\n",
       "    }\n",
       "</style>\n",
       "<table border=\"1\" class=\"dataframe\">\n",
       "  <thead>\n",
       "    <tr style=\"text-align: right;\">\n",
       "      <th></th>\n",
       "      <th>polarity</th>\n",
       "      <th>aspect_category</th>\n",
       "      <th>target_term</th>\n",
       "      <th>character_offset</th>\n",
       "      <th>sentence</th>\n",
       "    </tr>\n",
       "  </thead>\n",
       "  <tbody>\n",
       "    <tr>\n",
       "      <th>0</th>\n",
       "      <td>positive</td>\n",
       "      <td>LOCATION#GENERAL</td>\n",
       "      <td>neighborhood</td>\n",
       "      <td>54:66</td>\n",
       "      <td>great food, great wine list, great service in ...</td>\n",
       "    </tr>\n",
       "    <tr>\n",
       "      <th>1</th>\n",
       "      <td>negative</td>\n",
       "      <td>RESTAURANT#GENERAL</td>\n",
       "      <td>place</td>\n",
       "      <td>15:20</td>\n",
       "      <td>I thought this place was totally overrated.</td>\n",
       "    </tr>\n",
       "  </tbody>\n",
       "</table>\n",
       "</div>"
      ],
      "text/plain": [
       "   polarity     aspect_category   target_term character_offset  \\\n",
       "0  positive    LOCATION#GENERAL  neighborhood            54:66   \n",
       "1  negative  RESTAURANT#GENERAL         place            15:20   \n",
       "\n",
       "                                            sentence  \n",
       "0  great food, great wine list, great service in ...  \n",
       "1        I thought this place was totally overrated.  "
      ]
     },
     "execution_count": 45,
     "metadata": {},
     "output_type": "execute_result"
    }
   ],
   "source": [
    "df_dev=pd.read_csv(\"devdata.csv\",sep='\\t',header=None)\n",
    "df_dev.columns=[\"polarity\",\"aspect_category\",\"target_term\",\"character_offset\",\"sentence\"]\n",
    "df_dev.head(2)"
   ]
  },
  {
   "cell_type": "code",
   "execution_count": 71,
   "metadata": {},
   "outputs": [
    {
     "data": {
      "text/html": [
       "<div>\n",
       "<style scoped>\n",
       "    .dataframe tbody tr th:only-of-type {\n",
       "        vertical-align: middle;\n",
       "    }\n",
       "\n",
       "    .dataframe tbody tr th {\n",
       "        vertical-align: top;\n",
       "    }\n",
       "\n",
       "    .dataframe thead th {\n",
       "        text-align: right;\n",
       "    }\n",
       "</style>\n",
       "<table border=\"1\" class=\"dataframe\">\n",
       "  <thead>\n",
       "    <tr style=\"text-align: right;\">\n",
       "      <th></th>\n",
       "      <th>polarity</th>\n",
       "      <th>aspect_category</th>\n",
       "      <th>target_term</th>\n",
       "      <th>character_offset</th>\n",
       "      <th>sentence</th>\n",
       "      <th>label</th>\n",
       "    </tr>\n",
       "  </thead>\n",
       "  <tbody>\n",
       "    <tr>\n",
       "      <th>0</th>\n",
       "      <td>positive</td>\n",
       "      <td>LOCATION#GENERAL</td>\n",
       "      <td>neighborhood</td>\n",
       "      <td>54:66</td>\n",
       "      <td>great food, great wine list, great service in ...</td>\n",
       "      <td>1</td>\n",
       "    </tr>\n",
       "    <tr>\n",
       "      <th>1</th>\n",
       "      <td>negative</td>\n",
       "      <td>RESTAURANT#GENERAL</td>\n",
       "      <td>place</td>\n",
       "      <td>15:20</td>\n",
       "      <td>I thought this place was totally overrated.</td>\n",
       "      <td>-1</td>\n",
       "    </tr>\n",
       "  </tbody>\n",
       "</table>\n",
       "</div>"
      ],
      "text/plain": [
       "   polarity     aspect_category   target_term character_offset  \\\n",
       "0  positive    LOCATION#GENERAL  neighborhood            54:66   \n",
       "1  negative  RESTAURANT#GENERAL         place            15:20   \n",
       "\n",
       "                                            sentence  label  \n",
       "0  great food, great wine list, great service in ...      1  \n",
       "1        I thought this place was totally overrated.     -1  "
      ]
     },
     "execution_count": 71,
     "metadata": {},
     "output_type": "execute_result"
    }
   ],
   "source": [
    "df_train[\"label\"]=df_train[\"polarity\"].apply(lambda x: 1 if x==\"positive\" else (0 if x==\"neutral\" else -1))\n",
    "df_dev[\"label\"]=df_dev[\"polarity\"].apply(lambda x: 1 if x==\"positive\" else (0 if x==\"neutral\" else -1))\n",
    "df_dev.head(2)"
   ]
  },
  {
   "cell_type": "markdown",
   "metadata": {},
   "source": [
    "### Word2vec"
   ]
  },
  {
   "cell_type": "code",
   "execution_count": 23,
   "metadata": {},
   "outputs": [],
   "source": [
    "PATH_TO_DATA = Path('C:/Users/Armand/Desktop/3A/Deep Learning/nlp_project/nlp_project/')\n",
    "# Download word vectors, might take a few minutes and about ~3GB of storage space\n",
    "en_embeddings_path = PATH_TO_DATA / 'cc.en.300.vec.gz'\n",
    "if not en_embeddings_path.exists():\n",
    "    urlretrieve('https://dl.fbaipublicfiles.com/fasttext/vectors-crawl/cc.en.300.vec.gz', en_embeddings_path)\n",
    "fr_embeddings_path = PATH_TO_DATA / 'cc.fr.300.vec.gz'\n",
    "if not fr_embeddings_path.exists():\n",
    "    urlretrieve('https://dl.fbaipublicfiles.com/fasttext/vectors-crawl/cc.fr.300.vec.gz', fr_embeddings_path)"
   ]
  },
  {
   "cell_type": "code",
   "execution_count": 20,
   "metadata": {},
   "outputs": [],
   "source": [
    "from collections import defaultdict\n",
    "import gzip\n",
    "import numpy as np\n",
    "from pathlib import Path\n",
    "from urllib.request import urlretrieve\n",
    "\n",
    "import difflib\n",
    "import re\n",
    "import numpy as n"
   ]
  },
  {
   "cell_type": "code",
   "execution_count": 21,
   "metadata": {},
   "outputs": [],
   "source": [
    "class Word2Vec():\n",
    "\n",
    "    def __init__(self, filepath, vocab_size=50000):\n",
    "        self.words, self.embeddings = self.load_wordvec(filepath, vocab_size)\n",
    "        # Mappings for O(1) retrieval:\n",
    "        self.word2id = {word: idx for idx, word in enumerate(self.words)}\n",
    "        self.id2word = {idx: word for idx, word in enumerate(self.words)}\n",
    "    \n",
    "    def load_wordvec(self, filepath, vocab_size):\n",
    "        assert str(filepath).endswith('.gz')\n",
    "        words = []\n",
    "        embeddings = []\n",
    "        with gzip.open(filepath, 'rt',encoding=\"utf8\") as f:  # Read compressed file directly\n",
    "            next(f)  # Skip header\n",
    "            for i, line in enumerate(f):\n",
    "                word, vec = line.split(' ', 1)\n",
    "                words.append(word)\n",
    "                embeddings.append(np.fromstring(vec, sep=' '))\n",
    "                if i == (vocab_size - 1):\n",
    "                    break\n",
    "        print('Loaded %s pretrained word vectors' % (len(words)))\n",
    "        return words, np.vstack(embeddings)\n",
    "    \n",
    "    def encode(self, word):\n",
    "        # Returns the 1D embedding of a given word\n",
    "        #return self.embeddings[self.word2id[word]]\n",
    "        try:\n",
    "            i = self.word2id[word]\n",
    "            return self.embeddings[i]\n",
    "        except:\n",
    "            try:\n",
    "                word = difflib.get_close_matches(word, self.words)[0]\n",
    "                i = self.word2id[word]\n",
    "            except:\n",
    "                return 0\n",
    "        return self.embeddings[i]\n",
    "    \n",
    "    def score(self, word1, word2):\n",
    "        # Return the cosine similarity: use np.dot & np.linalg.norm\n",
    "        code1=self.encode(word1)\n",
    "        code2=self.encode(word2)\n",
    "        return np.dot(code1,code2)/(np.linalg.norm(code1)*np.linalg.norm(code2))"
   ]
  },
  {
   "cell_type": "code",
   "execution_count": 25,
   "metadata": {},
   "outputs": [],
   "source": [
    "class BagOfWords():\n",
    "    def __init__(self, word2vec):\n",
    "        self.word2vec = word2vec\n",
    "    \n",
    "    def build_idf(self, sentences):\n",
    "        # build the idf dictionary: associate each word to its idf value\n",
    "        # -> idf = {word: idf_value, ...}\n",
    "        idf={}\n",
    "        N=len(sentences)\n",
    "        \n",
    "        # get number of documents containing each word\n",
    "        for sentence in sentences:\n",
    "            wordsList=re.sub(\"[^\\w]\", \" \",sentence).split()\n",
    "            for word in set(wordsList):\n",
    "                idf[word]=idf.get(word, 0)+1\n",
    "                \n",
    "        #transform to get idf value of each word       \n",
    "        for word in idf:\n",
    "            idf[word]=np.log10(N/idf[word])\n",
    "        return idf\n",
    "        \n",
    "    \n",
    "    def encode(self, sentence, idf=None):\n",
    "        # Takes a sentence as input, returns the sentence embedding\n",
    "        wordsList=re.sub(\"[^\\w]\", \" \",sentence).split()\n",
    "        wordsVectors=[self.word2vec.encode(word) for word in wordsList]\n",
    "        if idf is None:\n",
    "            # mean of word vectors\n",
    "            return np.mean(wordsVectors,axis=0)\n",
    "        else:\n",
    "            # idf-weighted mean of word vectors\n",
    "            weightedMean=0\n",
    "            sumIdf=0\n",
    "            for i,word in enumerate(wordsList):\n",
    "                weightedMean+=idf.get(word,0)*wordsVectors[i]\n",
    "                sumIdf+=idf.get(word,0)\n",
    "            weightedMean=weightedMean/sumIdf\n",
    "            return weightedMean\n",
    "                                \n",
    "\n",
    "    def score(self, sentence1, sentence2, idf=None):\n",
    "        # cosine similarity: use np.dot & np.linalg.norm \n",
    "        code1=self.encode(sentence1,idf)\n",
    "        code2=self.encode(sentence2,idf)\n",
    "        return np.dot(code1,code2)/(np.linalg.norm(code1)*np.linalg.norm(code2))"
   ]
  },
  {
   "cell_type": "code",
   "execution_count": 26,
   "metadata": {},
   "outputs": [
    {
     "name": "stdout",
     "output_type": "stream",
     "text": [
      "Loaded 50000 pretrained word vectors\n"
     ]
    }
   ],
   "source": [
    "word2vec = Word2Vec(en_embeddings_path, vocab_size=50000)\n",
    "sentence2vec = BagOfWords(word2vec)"
   ]
  },
  {
   "cell_type": "markdown",
   "metadata": {},
   "source": [
    "### First Model"
   ]
  },
  {
   "cell_type": "markdown",
   "metadata": {},
   "source": [
    "#### Encode full sentence with word2vec then classification (logreg)"
   ]
  },
  {
   "cell_type": "code",
   "execution_count": 42,
   "metadata": {},
   "outputs": [],
   "source": [
    "a=sentence2vec.encode(df_train[\"sentence\"][1])"
   ]
  },
  {
   "cell_type": "code",
   "execution_count": 44,
   "metadata": {},
   "outputs": [],
   "source": [
    "train_sentences_emb=[sentence2vec.encode(df_train[\"sentence\"][i]) for i in range(len(df_train[\"sentence\"]))]"
   ]
  },
  {
   "cell_type": "code",
   "execution_count": 46,
   "metadata": {},
   "outputs": [],
   "source": [
    "dev_sentences_emb=[sentence2vec.encode(df_dev[\"sentence\"][i]) for i in range(len(df_dev[\"sentence\"]))]"
   ]
  },
  {
   "cell_type": "code",
   "execution_count": 55,
   "metadata": {},
   "outputs": [
    {
     "name": "stdout",
     "output_type": "stream",
     "text": [
      "Results for mean BoW: \n",
      " Best value for the penalty: 10.0 \n",
      " Dev accuracy: 0.7686170212765957 \n",
      " Train accuracy: 0.8416500332667998\n"
     ]
    }
   ],
   "source": [
    "from sklearn.linear_model import LogisticRegression\n",
    "\n",
    "train_acc,dev_acc=[],[]\n",
    "pen_values = 10.0**(np.arange(-2,2,0.5))\n",
    "\n",
    "for pen in pen_values:\n",
    "    logReg = LogisticRegression(penalty=\"l2\",C = pen, multi_class='auto',solver='newton-cg')\n",
    "    logReg.fit(train_sentences_emb, df_train[\"label\"])\n",
    "    train_acc.append(logReg.score(train_sentences_emb, df_train[\"label\"]))\n",
    "    dev_acc.append(logReg.score(dev_sentences_emb, df_dev[\"label\"]))\n",
    "\n",
    "best_pen=pen_values[np.argmax(dev_acc)]\n",
    "best_train_acc=train_acc[np.argmax(dev_acc)]\n",
    "best_dev_acc=max(dev_acc)\n",
    "\n",
    "print(\"Results for mean BoW: \\n\",\"Best value for the penalty:\",best_pen,'\\n Dev accuracy:',best_dev_acc,'\\n Train accuracy:',best_train_acc)"
   ]
  },
  {
   "cell_type": "code",
   "execution_count": 57,
   "metadata": {},
   "outputs": [],
   "source": [
    "logReg = LogisticRegression(penalty=\"l2\",C = 10, multi_class='auto',solver='newton-cg')"
   ]
  },
  {
   "cell_type": "code",
   "execution_count": 69,
   "metadata": {},
   "outputs": [],
   "source": [
    "logReg.fit(train_sentences_emb, df_train[\"label\"])\n",
    "logReg.predict(dev_sentences_emb);"
   ]
  },
  {
   "cell_type": "markdown",
   "metadata": {},
   "source": [
    "### 2nd Model"
   ]
  },
  {
   "cell_type": "markdown",
   "metadata": {},
   "source": [
    "#### Same but remove target term and stopwords from sentence"
   ]
  },
  {
   "cell_type": "code",
   "execution_count": 196,
   "metadata": {},
   "outputs": [],
   "source": [
    "sentence_red=[0]*len(df_train)\n",
    "for i in range(len(df_train)):\n",
    "    sentence_red[i]=df_train[\"sentence\"][i][:int(df_train[\"character_offset\"][i].split(\":\")[0])]+df_train[\"sentence\"][i][int(df_train[\"character_offset\"][i].split(\":\")[1]):]\n",
    "df_train[\"sentence_red\"]=sentence_red\n",
    "\n",
    "sentence_red=[0]*len(df_dev)\n",
    "for i in range(len(df_dev)):\n",
    "    sentence_red[i]=df_dev[\"sentence\"][i][:int(df_dev[\"character_offset\"][i].split(\":\")[0])]+df_dev[\"sentence\"][i][int(df_dev[\"character_offset\"][i].split(\":\")[1]):]\n",
    "df_dev[\"sentence_red\"]=sentence_red"
   ]
  },
  {
   "cell_type": "code",
   "execution_count": 197,
   "metadata": {},
   "outputs": [
    {
     "data": {
      "text/html": [
       "<div>\n",
       "<style scoped>\n",
       "    .dataframe tbody tr th:only-of-type {\n",
       "        vertical-align: middle;\n",
       "    }\n",
       "\n",
       "    .dataframe tbody tr th {\n",
       "        vertical-align: top;\n",
       "    }\n",
       "\n",
       "    .dataframe thead th {\n",
       "        text-align: right;\n",
       "    }\n",
       "</style>\n",
       "<table border=\"1\" class=\"dataframe\">\n",
       "  <thead>\n",
       "    <tr style=\"text-align: right;\">\n",
       "      <th></th>\n",
       "      <th>polarity</th>\n",
       "      <th>aspect_category</th>\n",
       "      <th>target_term</th>\n",
       "      <th>character_offset</th>\n",
       "      <th>sentence</th>\n",
       "      <th>label</th>\n",
       "      <th>sentence_red</th>\n",
       "    </tr>\n",
       "  </thead>\n",
       "  <tbody>\n",
       "    <tr>\n",
       "      <th>0</th>\n",
       "      <td>positive</td>\n",
       "      <td>AMBIENCE#GENERAL</td>\n",
       "      <td>seating</td>\n",
       "      <td>18:25</td>\n",
       "      <td>short and sweet – seating is great:it's romant...</td>\n",
       "      <td>1</td>\n",
       "      <td>short and sweet –  is great:it's romantic,cozy...</td>\n",
       "    </tr>\n",
       "    <tr>\n",
       "      <th>1</th>\n",
       "      <td>positive</td>\n",
       "      <td>AMBIENCE#GENERAL</td>\n",
       "      <td>trattoria</td>\n",
       "      <td>25:34</td>\n",
       "      <td>This quaint and romantic trattoria is at the t...</td>\n",
       "      <td>1</td>\n",
       "      <td>This quaint and romantic  is at the top of my ...</td>\n",
       "    </tr>\n",
       "  </tbody>\n",
       "</table>\n",
       "</div>"
      ],
      "text/plain": [
       "   polarity   aspect_category target_term character_offset  \\\n",
       "0  positive  AMBIENCE#GENERAL     seating            18:25   \n",
       "1  positive  AMBIENCE#GENERAL   trattoria            25:34   \n",
       "\n",
       "                                            sentence  label  \\\n",
       "0  short and sweet – seating is great:it's romant...      1   \n",
       "1  This quaint and romantic trattoria is at the t...      1   \n",
       "\n",
       "                                        sentence_red  \n",
       "0  short and sweet –  is great:it's romantic,cozy...  \n",
       "1  This quaint and romantic  is at the top of my ...  "
      ]
     },
     "execution_count": 197,
     "metadata": {},
     "output_type": "execute_result"
    }
   ],
   "source": [
    "df_train.head(2)"
   ]
  },
  {
   "cell_type": "code",
   "execution_count": 198,
   "metadata": {},
   "outputs": [],
   "source": [
    "stop_words = set(stopwords.words('english')) \n",
    "stop_words.remove(\"not\")\n",
    "stop_words.remove(\"no\")\n",
    "\n",
    "def remove_stopwords(sentence):\n",
    "    sentence = sentence.lower()\n",
    "    sentence_tok = word_tokenize(sentence)\n",
    "    sentence_f = \"\"\n",
    "    for i in range(len(sentence_tok)):\n",
    "        w=sentence_tok[i]\n",
    "        if w not in stop_words:\n",
    "            if i==len(sentence_tok)-1:\n",
    "                sentence_f+=w\n",
    "            else:\n",
    "                sentence_f+=w+\" \"\n",
    "    if len(sentence_f)<2:\n",
    "        sentence_f = sentence\n",
    "    return sentence_f"
   ]
  },
  {
   "cell_type": "code",
   "execution_count": 199,
   "metadata": {},
   "outputs": [
    {
     "data": {
      "text/html": [
       "<div>\n",
       "<style scoped>\n",
       "    .dataframe tbody tr th:only-of-type {\n",
       "        vertical-align: middle;\n",
       "    }\n",
       "\n",
       "    .dataframe tbody tr th {\n",
       "        vertical-align: top;\n",
       "    }\n",
       "\n",
       "    .dataframe thead th {\n",
       "        text-align: right;\n",
       "    }\n",
       "</style>\n",
       "<table border=\"1\" class=\"dataframe\">\n",
       "  <thead>\n",
       "    <tr style=\"text-align: right;\">\n",
       "      <th></th>\n",
       "      <th>polarity</th>\n",
       "      <th>aspect_category</th>\n",
       "      <th>target_term</th>\n",
       "      <th>character_offset</th>\n",
       "      <th>sentence</th>\n",
       "      <th>label</th>\n",
       "      <th>sentence_red</th>\n",
       "    </tr>\n",
       "  </thead>\n",
       "  <tbody>\n",
       "    <tr>\n",
       "      <th>0</th>\n",
       "      <td>positive</td>\n",
       "      <td>AMBIENCE#GENERAL</td>\n",
       "      <td>seating</td>\n",
       "      <td>18:25</td>\n",
       "      <td>short and sweet – seating is great:it's romant...</td>\n",
       "      <td>1</td>\n",
       "      <td>short sweet – great : 's romantic , cozy priva...</td>\n",
       "    </tr>\n",
       "    <tr>\n",
       "      <th>1</th>\n",
       "      <td>positive</td>\n",
       "      <td>AMBIENCE#GENERAL</td>\n",
       "      <td>trattoria</td>\n",
       "      <td>25:34</td>\n",
       "      <td>This quaint and romantic trattoria is at the t...</td>\n",
       "      <td>1</td>\n",
       "      <td>quaint romantic top manhattan restaurant list .</td>\n",
       "    </tr>\n",
       "  </tbody>\n",
       "</table>\n",
       "</div>"
      ],
      "text/plain": [
       "   polarity   aspect_category target_term character_offset  \\\n",
       "0  positive  AMBIENCE#GENERAL     seating            18:25   \n",
       "1  positive  AMBIENCE#GENERAL   trattoria            25:34   \n",
       "\n",
       "                                            sentence  label  \\\n",
       "0  short and sweet – seating is great:it's romant...      1   \n",
       "1  This quaint and romantic trattoria is at the t...      1   \n",
       "\n",
       "                                        sentence_red  \n",
       "0  short sweet – great : 's romantic , cozy priva...  \n",
       "1    quaint romantic top manhattan restaurant list .  "
      ]
     },
     "execution_count": 199,
     "metadata": {},
     "output_type": "execute_result"
    }
   ],
   "source": [
    "df_train[\"sentence_red\"]=df_train[\"sentence_red\"].apply(lambda x:remove_stopwords(x))\n",
    "df_dev[\"sentence_red\"]=df_dev[\"sentence_red\"].apply(lambda x:remove_stopwords(x))\n",
    "df_train.head(2)"
   ]
  },
  {
   "cell_type": "code",
   "execution_count": 201,
   "metadata": {},
   "outputs": [],
   "source": [
    "train_sentences_emb2=[sentence2vec.encode(df_train[\"sentence_red\"][i]) for i in range(len(df_train[\"sentence_red\"]))]"
   ]
  },
  {
   "cell_type": "code",
   "execution_count": 202,
   "metadata": {},
   "outputs": [],
   "source": [
    "dev_sentences_emb2=[sentence2vec.encode(df_dev[\"sentence_red\"][i]) for i in range(len(df_dev[\"sentence_red\"]))]"
   ]
  },
  {
   "cell_type": "code",
   "execution_count": 203,
   "metadata": {},
   "outputs": [
    {
     "name": "stdout",
     "output_type": "stream",
     "text": [
      "Results for mean BoW: \n",
      " Best value for the penalty: 10.0 \n",
      " Dev accuracy: 0.7978723404255319 \n",
      " Train accuracy: 0.8642714570858283\n"
     ]
    }
   ],
   "source": [
    "from sklearn.linear_model import LogisticRegression\n",
    "\n",
    "train_acc,dev_acc=[],[]\n",
    "pen_values = 10.0**(np.arange(-2,2,0.5))\n",
    "\n",
    "for pen in pen_values:\n",
    "    logReg = LogisticRegression(penalty=\"l2\",C = pen, multi_class='auto',solver='newton-cg')\n",
    "    logReg.fit(train_sentences_emb2, df_train[\"label\"])\n",
    "    train_acc.append(logReg.score(train_sentences_emb2, df_train[\"label\"]))\n",
    "    dev_acc.append(logReg.score(dev_sentences_emb2, df_dev[\"label\"]))\n",
    "\n",
    "best_pen=pen_values[np.argmax(dev_acc)]\n",
    "best_train_acc=train_acc[np.argmax(dev_acc)]\n",
    "best_dev_acc=max(dev_acc)\n",
    "\n",
    "print(\"Results for mean BoW: \\n\",\"Best value for the penalty:\",best_pen,'\\n Dev accuracy:',best_dev_acc,'\\n Train accuracy:',best_train_acc)"
   ]
  }
 ],
 "metadata": {
  "kernelspec": {
   "display_name": "Python 3",
   "language": "python",
   "name": "python3"
  },
  "language_info": {
   "codemirror_mode": {
    "name": "ipython",
    "version": 3
   },
   "file_extension": ".py",
   "mimetype": "text/x-python",
   "name": "python",
   "nbconvert_exporter": "python",
   "pygments_lexer": "ipython3",
   "version": "3.7.3"
  }
 },
 "nbformat": 4,
 "nbformat_minor": 2
}
